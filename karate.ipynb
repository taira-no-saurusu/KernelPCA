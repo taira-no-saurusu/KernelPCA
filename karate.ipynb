{
 "cells": [
  {
   "cell_type": "code",
   "execution_count": 1,
   "metadata": {},
   "outputs": [],
   "source": [
    "import networkx as nx\n",
    "import numpy as np\n",
    "import kernelPCA as pca\n",
    "\n"
   ]
  },
  {
   "cell_type": "code",
   "execution_count": 2,
   "metadata": {},
   "outputs": [],
   "source": [
    "\"\"\"\n",
    "隣接行列から次数行列を返す\n",
    "adj : 隣接行列\n",
    "return : 次数行列\n",
    "\"\"\"\n",
    "def adj_to_ord(adj):\n",
    "    #行列のサイズ\n",
    "    matrix_size = len(adj)\n",
    "    #ゼロ行列\n",
    "    ord = np.zeros([matrix_size, matrix_size], int)\n",
    "\n",
    "    for a in matrix_size:\n",
    "        # 行に対応するノードの次数を取得して次数行列となるordの対角成分に追加\n",
    "        ord[a][a] = np.size(adj[a][adj[a]!=0]) \n",
    "    return ord    \n"
   ]
  },
  {
   "cell_type": "code",
   "execution_count": 14,
   "metadata": {},
   "outputs": [
    {
     "name": "stderr",
     "output_type": "stream",
     "text": [
      "/Users/taira_no_mac/Documents/GitHub/KernelPCA/kernelPCA.py:12: FutureWarning: adjacency_matrix will return a scipy.sparse array instead of a matrix in Networkx 3.0.\n",
      "  return np.array(nx.adjacency_matrix(G).todense().astype(int))\n"
     ]
    },
    {
     "ename": "TypeError",
     "evalue": "'int' object is not iterable",
     "output_type": "error",
     "traceback": [
      "\u001b[0;31m---------------------------------------------------------------------------\u001b[0m",
      "\u001b[0;31mTypeError\u001b[0m                                 Traceback (most recent call last)",
      "Cell \u001b[0;32mIn[14], line 4\u001b[0m\n\u001b[1;32m      2\u001b[0m adj \u001b[39m=\u001b[39m pca\u001b[39m.\u001b[39mnx_to_adj(G)\n\u001b[1;32m      3\u001b[0m adj[\u001b[39m0\u001b[39m][adj[\u001b[39m0\u001b[39m]\u001b[39m!=\u001b[39m\u001b[39m0\u001b[39m]\n\u001b[0;32m----> 4\u001b[0m \u001b[39mprint\u001b[39m(adj_to_ord(adj))\n",
      "Cell \u001b[0;32mIn[2], line 10\u001b[0m, in \u001b[0;36madj_to_ord\u001b[0;34m(adj)\u001b[0m\n\u001b[1;32m      6\u001b[0m \u001b[39mdef\u001b[39;00m \u001b[39madj_to_ord\u001b[39m(adj):\n\u001b[1;32m      7\u001b[0m     \u001b[39m#行列のサイズ\u001b[39;00m\n\u001b[1;32m      8\u001b[0m     l \u001b[39m=\u001b[39m \u001b[39mlen\u001b[39m(adj)\n\u001b[0;32m---> 10\u001b[0m     \u001b[39mfor\u001b[39;00m a \u001b[39min\u001b[39;00m l:\n\u001b[1;32m     11\u001b[0m         size \u001b[39m=\u001b[39m np\u001b[39m.\u001b[39msize(adj[a][adj[a] \u001b[39m!=\u001b[39m \u001b[39m0\u001b[39m])\n",
      "\u001b[0;31mTypeError\u001b[0m: 'int' object is not iterable"
     ]
    }
   ],
   "source": [
    "G = nx.karate_club_graph()\n",
    "adj = pca.nx_to_adj(G)\n",
    "adj[0][adj[0]!=0]\n",
    "print(adj_to_ord(adj))\n",
    "\n"
   ]
  },
  {
   "cell_type": "code",
   "execution_count": 13,
   "metadata": {},
   "outputs": [
    {
     "name": "stdout",
     "output_type": "stream",
     "text": [
      "0\n"
     ]
    }
   ],
   "source": []
  }
 ],
 "metadata": {
  "kernelspec": {
   "display_name": "pca",
   "language": "python",
   "name": "python3"
  },
  "language_info": {
   "codemirror_mode": {
    "name": "ipython",
    "version": 3
   },
   "file_extension": ".py",
   "mimetype": "text/x-python",
   "name": "python",
   "nbconvert_exporter": "python",
   "pygments_lexer": "ipython3",
   "version": "3.10.8"
  },
  "orig_nbformat": 4,
  "vscode": {
   "interpreter": {
    "hash": "b29c5283842cc95b504058da85bcfe2a1e45c1e4df3c183cb20543d77818e75e"
   }
  }
 },
 "nbformat": 4,
 "nbformat_minor": 2
}
